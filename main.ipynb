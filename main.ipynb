{
 "cells": [
  {
   "cell_type": "code",
   "execution_count": 2,
   "metadata": {},
   "outputs": [],
   "source": [
    "import requests\n",
    "import pandas as pd "
   ]
  },
  {
   "cell_type": "code",
   "execution_count": 14,
   "metadata": {},
   "outputs": [],
   "source": [
    "# Pull in data from an API. \n",
    "\n",
    "url = \"https://api2.binance.com/api/v3/ticker/24hr\"\n",
    "response = requests.get(url)\n",
    "data = response.json()"
   ]
  },
  {
   "cell_type": "code",
   "execution_count": 15,
   "metadata": {},
   "outputs": [
    {
     "name": "stdout",
     "output_type": "stream",
     "text": [
      "1663803020332\n",
      "28737442\n"
     ]
    }
   ],
   "source": [
    "df = pd.DataFrame(data)\n",
    "#df.describe()\n"
   ]
  },
  {
   "cell_type": "code",
   "execution_count": 24,
   "metadata": {},
   "outputs": [
    {
     "name": "stdout",
     "output_type": "stream",
     "text": [
      "1663803020332\n",
      "28737442\n"
     ]
    }
   ],
   "source": [
    "# Find and print TWO descriptive statistics about your data. \n",
    "# This can be absolutely anything, from the mean() or sum() of a column to the number of different categories,\n",
    "# to the number of null values in a column. We just want to see two pieces of information.\n",
    "\n",
    "print(df[\"openTime\"].max())\n",
    "print(df[\"count\"].sum())"
   ]
  },
  {
   "cell_type": "code",
   "execution_count": 18,
   "metadata": {},
   "outputs": [],
   "source": [
    "# Write a query in Pandas to select a particular set of your data. \n",
    "# You can use a mask or with .query(), but we want you to pull out a \n",
    "# subset based on any parameter you like. \n",
    "\n",
    "df_filtered = df[df['symbol'] == 'ETHBTC']"
   ]
  },
  {
   "cell_type": "code",
   "execution_count": 21,
   "metadata": {},
   "outputs": [
    {
     "data": {
      "text/html": [
       "<div>\n",
       "<style scoped>\n",
       "    .dataframe tbody tr th:only-of-type {\n",
       "        vertical-align: middle;\n",
       "    }\n",
       "\n",
       "    .dataframe tbody tr th {\n",
       "        vertical-align: top;\n",
       "    }\n",
       "\n",
       "    .dataframe thead th {\n",
       "        text-align: right;\n",
       "    }\n",
       "</style>\n",
       "<table border=\"1\" class=\"dataframe\">\n",
       "  <thead>\n",
       "    <tr style=\"text-align: right;\">\n",
       "      <th></th>\n",
       "      <th>priceChangePercent</th>\n",
       "      <th>weightedAvgPrice</th>\n",
       "    </tr>\n",
       "  </thead>\n",
       "  <tbody>\n",
       "    <tr>\n",
       "      <th>0</th>\n",
       "      <td>1.653</td>\n",
       "      <td>0.06769138</td>\n",
       "    </tr>\n",
       "  </tbody>\n",
       "</table>\n",
       "</div>"
      ],
      "text/plain": [
       "  priceChangePercent weightedAvgPrice\n",
       "0              1.653       0.06769138"
      ]
     },
     "execution_count": 21,
     "metadata": {},
     "output_type": "execute_result"
    }
   ],
   "source": [
    "# Select and print the SECOND AND THIRD columns of your data frame.\n",
    "\n",
    "df_filtered.iloc[:, 2:4]"
   ]
  },
  {
   "cell_type": "code",
   "execution_count": 23,
   "metadata": {},
   "outputs": [
    {
     "data": {
      "text/html": [
       "<div>\n",
       "<style scoped>\n",
       "    .dataframe tbody tr th:only-of-type {\n",
       "        vertical-align: middle;\n",
       "    }\n",
       "\n",
       "    .dataframe tbody tr th {\n",
       "        vertical-align: top;\n",
       "    }\n",
       "\n",
       "    .dataframe thead th {\n",
       "        text-align: right;\n",
       "    }\n",
       "</style>\n",
       "<table border=\"1\" class=\"dataframe\">\n",
       "  <thead>\n",
       "    <tr style=\"text-align: right;\">\n",
       "      <th></th>\n",
       "      <th>symbol</th>\n",
       "      <th>priceChange</th>\n",
       "      <th>priceChangePercent</th>\n",
       "      <th>weightedAvgPrice</th>\n",
       "      <th>prevClosePrice</th>\n",
       "      <th>lastPrice</th>\n",
       "      <th>lastQty</th>\n",
       "      <th>bidPrice</th>\n",
       "      <th>bidQty</th>\n",
       "      <th>askPrice</th>\n",
       "      <th>...</th>\n",
       "      <th>openPrice</th>\n",
       "      <th>highPrice</th>\n",
       "      <th>lowPrice</th>\n",
       "      <th>volume</th>\n",
       "      <th>quoteVolume</th>\n",
       "      <th>openTime</th>\n",
       "      <th>closeTime</th>\n",
       "      <th>firstId</th>\n",
       "      <th>lastId</th>\n",
       "      <th>count</th>\n",
       "    </tr>\n",
       "  </thead>\n",
       "  <tbody>\n",
       "    <tr>\n",
       "      <th>0</th>\n",
       "      <td>ETHBTC</td>\n",
       "      <td>0.00111500</td>\n",
       "      <td>1.653</td>\n",
       "      <td>0.06769138</td>\n",
       "      <td>0.06746800</td>\n",
       "      <td>0.06858300</td>\n",
       "      <td>1.11060000</td>\n",
       "      <td>0.06858600</td>\n",
       "      <td>6.79800000</td>\n",
       "      <td>0.06858700</td>\n",
       "      <td>...</td>\n",
       "      <td>0.06746800</td>\n",
       "      <td>0.06914500</td>\n",
       "      <td>0.06661500</td>\n",
       "      <td>114029.77450000</td>\n",
       "      <td>7718.83248147</td>\n",
       "      <td>1663803020272</td>\n",
       "      <td>1663889420272</td>\n",
       "      <td>376225766</td>\n",
       "      <td>376524513</td>\n",
       "      <td>298748</td>\n",
       "    </tr>\n",
       "    <tr>\n",
       "      <th>1</th>\n",
       "      <td>LTCBTC</td>\n",
       "      <td>-0.00000400</td>\n",
       "      <td>-0.145</td>\n",
       "      <td>0.00277543</td>\n",
       "      <td>0.00275700</td>\n",
       "      <td>0.00275200</td>\n",
       "      <td>0.30000000</td>\n",
       "      <td>0.00275100</td>\n",
       "      <td>55.18000000</td>\n",
       "      <td>0.00275200</td>\n",
       "      <td>...</td>\n",
       "      <td>0.00275600</td>\n",
       "      <td>0.00280400</td>\n",
       "      <td>0.00274700</td>\n",
       "      <td>85476.30500000</td>\n",
       "      <td>237.23317991</td>\n",
       "      <td>1663803020016</td>\n",
       "      <td>1663889420016</td>\n",
       "      <td>83809135</td>\n",
       "      <td>83832348</td>\n",
       "      <td>23214</td>\n",
       "    </tr>\n",
       "    <tr>\n",
       "      <th>2</th>\n",
       "      <td>BNBBTC</td>\n",
       "      <td>-0.00005000</td>\n",
       "      <td>-0.351</td>\n",
       "      <td>0.01416886</td>\n",
       "      <td>0.01424400</td>\n",
       "      <td>0.01419500</td>\n",
       "      <td>0.04400000</td>\n",
       "      <td>0.01419500</td>\n",
       "      <td>2.70200000</td>\n",
       "      <td>0.01419600</td>\n",
       "      <td>...</td>\n",
       "      <td>0.01424500</td>\n",
       "      <td>0.01441100</td>\n",
       "      <td>0.01393400</td>\n",
       "      <td>65748.27200000</td>\n",
       "      <td>931.57822541</td>\n",
       "      <td>1663803020260</td>\n",
       "      <td>1663889420260</td>\n",
       "      <td>203036401</td>\n",
       "      <td>203194837</td>\n",
       "      <td>158437</td>\n",
       "    </tr>\n",
       "    <tr>\n",
       "      <th>3</th>\n",
       "      <td>NEOBTC</td>\n",
       "      <td>-0.00000200</td>\n",
       "      <td>-0.459</td>\n",
       "      <td>0.00043798</td>\n",
       "      <td>0.00043500</td>\n",
       "      <td>0.00043400</td>\n",
       "      <td>433.17000000</td>\n",
       "      <td>0.00043400</td>\n",
       "      <td>97.84000000</td>\n",
       "      <td>0.00043500</td>\n",
       "      <td>...</td>\n",
       "      <td>0.00043600</td>\n",
       "      <td>0.00044200</td>\n",
       "      <td>0.00043400</td>\n",
       "      <td>21746.06000000</td>\n",
       "      <td>9.52424591</td>\n",
       "      <td>1663803019989</td>\n",
       "      <td>1663889419989</td>\n",
       "      <td>43883527</td>\n",
       "      <td>43884977</td>\n",
       "      <td>1451</td>\n",
       "    </tr>\n",
       "  </tbody>\n",
       "</table>\n",
       "<p>4 rows × 21 columns</p>\n",
       "</div>"
      ],
      "text/plain": [
       "   symbol  priceChange priceChangePercent weightedAvgPrice prevClosePrice  \\\n",
       "0  ETHBTC   0.00111500              1.653       0.06769138     0.06746800   \n",
       "1  LTCBTC  -0.00000400             -0.145       0.00277543     0.00275700   \n",
       "2  BNBBTC  -0.00005000             -0.351       0.01416886     0.01424400   \n",
       "3  NEOBTC  -0.00000200             -0.459       0.00043798     0.00043500   \n",
       "\n",
       "    lastPrice       lastQty    bidPrice       bidQty    askPrice  ...  \\\n",
       "0  0.06858300    1.11060000  0.06858600   6.79800000  0.06858700  ...   \n",
       "1  0.00275200    0.30000000  0.00275100  55.18000000  0.00275200  ...   \n",
       "2  0.01419500    0.04400000  0.01419500   2.70200000  0.01419600  ...   \n",
       "3  0.00043400  433.17000000  0.00043400  97.84000000  0.00043500  ...   \n",
       "\n",
       "    openPrice   highPrice    lowPrice           volume    quoteVolume  \\\n",
       "0  0.06746800  0.06914500  0.06661500  114029.77450000  7718.83248147   \n",
       "1  0.00275600  0.00280400  0.00274700   85476.30500000   237.23317991   \n",
       "2  0.01424500  0.01441100  0.01393400   65748.27200000   931.57822541   \n",
       "3  0.00043600  0.00044200  0.00043400   21746.06000000     9.52424591   \n",
       "\n",
       "        openTime      closeTime    firstId     lastId   count  \n",
       "0  1663803020272  1663889420272  376225766  376524513  298748  \n",
       "1  1663803020016  1663889420016   83809135   83832348   23214  \n",
       "2  1663803020260  1663889420260  203036401  203194837  158437  \n",
       "3  1663803019989  1663889419989   43883527   43884977    1451  \n",
       "\n",
       "[4 rows x 21 columns]"
      ]
     },
     "execution_count": 23,
     "metadata": {},
     "output_type": "execute_result"
    }
   ],
   "source": [
    "# Select and print the FIRST 4 rows of your data frame.\n",
    "\n",
    "df.head(4)"
   ]
  },
  {
   "cell_type": "code",
   "execution_count": null,
   "metadata": {},
   "outputs": [],
   "source": []
  }
 ],
 "metadata": {
  "kernelspec": {
   "display_name": "Python 3.10.0 64-bit",
   "language": "python",
   "name": "python3"
  },
  "language_info": {
   "codemirror_mode": {
    "name": "ipython",
    "version": 3
   },
   "file_extension": ".py",
   "mimetype": "text/x-python",
   "name": "python",
   "nbconvert_exporter": "python",
   "pygments_lexer": "ipython3",
   "version": "3.10.0"
  },
  "orig_nbformat": 4,
  "vscode": {
   "interpreter": {
    "hash": "369f2c481f4da34e4445cda3fffd2e751bd1c4d706f27375911949ba6bb62e1c"
   }
  }
 },
 "nbformat": 4,
 "nbformat_minor": 2
}
